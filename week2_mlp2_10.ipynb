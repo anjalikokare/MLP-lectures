{
  "nbformat": 4,
  "nbformat_minor": 0,
  "metadata": {
    "colab": {
      "provenance": [],
      "authorship_tag": "ABX9TyO3cNK2YP3n/bKCGq1iA3Et",
      "include_colab_link": true
    },
    "kernelspec": {
      "name": "python3",
      "display_name": "Python 3"
    },
    "language_info": {
      "name": "python"
    }
  },
  "cells": [
    {
      "cell_type": "markdown",
      "metadata": {
        "id": "view-in-github",
        "colab_type": "text"
      },
      "source": [
        "<a href=\"https://colab.research.google.com/github/anjalikokare/MLP-lectures/blob/main/week2_mlp2_10.ipynb\" target=\"_parent\"><img src=\"https://colab.research.google.com/assets/colab-badge.svg\" alt=\"Open In Colab\"/></a>"
      ]
    },
    {
      "cell_type": "markdown",
      "source": [
        "**Dimentionality Reduction**\n",
        "\n",
        "* Unsupervised dimnetionality reduction technique(another tenchnique)"
      ],
      "metadata": {
        "id": "A9t5faI20hGa"
      }
    },
    {
      "cell_type": "markdown",
      "source": [
        "* **sklearn.decomposition** has number of APIs for this task.\n",
        "* principle component analysis(PCA) in sklearn"
      ],
      "metadata": {
        "id": "9Cex2wVJ1AIy"
      }
    },
    {
      "cell_type": "markdown",
      "source": [
        "**PCA**\n",
        "* linear dimentinality reduction technique\n",
        "* it uses **singular value decomposition(SVD)** to project data to lower dimnsionl space\n",
        "* first principle component in the direction of **maximum varience**\n",
        "* it captures bulk of variance\n",
        "* the subsequent PCs are orthogonal to the first PC gadually captures lesser and lesser varince\n",
        "* we can select first k PCs such that we are able to capture desired varince in the data"
      ],
      "metadata": {
        "id": "YY3IC-KK1eY7"
      }
    },
    {
      "cell_type": "code",
      "execution_count": null,
      "metadata": {
        "id": "3yOjBZoV0aCu"
      },
      "outputs": [],
      "source": []
    }
  ]
}