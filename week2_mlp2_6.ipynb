{
  "nbformat": 4,
  "nbformat_minor": 0,
  "metadata": {
    "colab": {
      "provenance": [],
      "authorship_tag": "ABX9TyN48f5yjdKOQQKeTqmXhXjw",
      "include_colab_link": true
    },
    "kernelspec": {
      "name": "python3",
      "display_name": "Python 3"
    },
    "language_info": {
      "name": "python"
    }
  },
  "cells": [
    {
      "cell_type": "markdown",
      "metadata": {
        "id": "view-in-github",
        "colab_type": "text"
      },
      "source": [
        "<a href=\"https://colab.research.google.com/github/anjalikokare/MLP-lectures/blob/main/week2_mlp2_6.ipynb\" target=\"_parent\"><img src=\"https://colab.research.google.com/assets/colab-badge.svg\" alt=\"Open In Colab\"/></a>"
      ]
    },
    {
      "cell_type": "markdown",
      "source": [
        "# **Numeric Transformers**"
      ],
      "metadata": {
        "id": "2l6vlsPYh5Zq"
      }
    },
    {
      "cell_type": "markdown",
      "source": [
        "* **feature scalling**\n",
        "* **polynomial transformation**\n",
        "* **Discretization**"
      ],
      "metadata": {
        "id": "gR6N_jyYrVYr"
      }
    },
    {
      "cell_type": "markdown",
      "source": [
        "# **Feature Scalling**\n",
        "* numerical features with difetrent leads to slower convergence of iteratie optimization procedures.\n",
        "* it is a good practice to scale numerical fatures so that all of them are on same scale"
      ],
      "metadata": {
        "id": "SvTa4BiEroCa"
      }
    },
    {
      "cell_type": "markdown",
      "source": [
        "* **StandardScaler**\n",
        "* **MaxAbsScaler**\n",
        "* **MinMaxScaler**"
      ],
      "metadata": {
        "id": "OCFtX96ktvhR"
      }
    },
    {
      "cell_type": "markdown",
      "source": [
        "# **StandardScaler**\n",
        "\n",
        "* transform the original features vectors x into new feature vector x' formula\n",
        "\n",
        "# * **$x' = \\frac{x - \\mu}{\\sigma}$**\n",
        "* $$\n",
        "\\sigma = \\sqrt{\\frac{1}{N} \\sum_{i=1}^{N} (x_i - \\mu)^2}$$\n",
        "\n",
        "\n",
        "* x = original value\n",
        "* σ = scale factor (standard deviation ya koi multiplier)\n",
        "* μ = shift (mean ya offset)\n",
        "* x' = transformed value\n",
        "\n",
        "\n",
        "* **Note** : the transformed feature vector x' has mean(${\\mu}$)= 0 and standard deviation(${\\sigma}$) = 1\n"
      ],
      "metadata": {
        "id": "UKFQnqAZt7CC"
      }
    },
    {
      "cell_type": "code",
      "source": [
        "import numpy as np\n",
        "from math import sqrt\n",
        "from sklearn.preprocessing import StandardScaler"
      ],
      "metadata": {
        "id": "tOAoTMIkwNNN"
      },
      "execution_count": 12,
      "outputs": []
    },
    {
      "cell_type": "code",
      "source": [
        "x = np.array((4,3,2,5,6)).reshape(5,1)\n",
        "u , sigma = 4,sqrt(2)\n",
        "X_prime = (x-u)/sigma\n",
        "print(X_prime)"
      ],
      "metadata": {
        "colab": {
          "base_uri": "https://localhost:8080/"
        },
        "id": "Laah3ajAuAw6",
        "outputId": "4de1eb01-97f1-4ed6-d8f1-1f0f413e2d2f"
      },
      "execution_count": 14,
      "outputs": [
        {
          "output_type": "stream",
          "name": "stdout",
          "text": [
            "[[ 0.        ]\n",
            " [-0.70710678]\n",
            " [-1.41421356]\n",
            " [ 0.70710678]\n",
            " [ 1.41421356]]\n"
          ]
        }
      ]
    },
    {
      "cell_type": "code",
      "source": [
        "x = np.array((0,3,6)).reshape(3,1)"
      ],
      "metadata": {
        "id": "1pRd8Ee3LTVm"
      },
      "execution_count": 57,
      "outputs": []
    },
    {
      "cell_type": "code",
      "source": [
        "ss = StandardScaler()\n",
        "ss.fit_transform(x)"
      ],
      "metadata": {
        "colab": {
          "base_uri": "https://localhost:8080/"
        },
        "id": "DArdPfPrxYPz",
        "outputId": "f6253985-3c46-4754-8c85-7dbc6d1de5ad"
      },
      "execution_count": 58,
      "outputs": [
        {
          "output_type": "execute_result",
          "data": {
            "text/plain": [
              "array([[-1.22474487],\n",
              "       [ 0.        ],\n",
              "       [ 1.22474487]])"
            ]
          },
          "metadata": {},
          "execution_count": 58
        }
      ]
    },
    {
      "cell_type": "markdown",
      "source": [
        "# **MaxAbsScaler**\n",
        "* it transforms the original features vector  into new feature vector so that all values fall within range[-1,1]\n",
        "\n",
        "* $x' = \\frac{x}{maxAbsolutevalue}$\n",
        "* where MaxAbsoluteValue = max(x.max, | x.min |)"
      ],
      "metadata": {
        "id": "Ah24DA_ByhnF"
      }
    },
    {
      "cell_type": "code",
      "source": [
        "from sklearn.preprocessing import MaxAbsScaler"
      ],
      "metadata": {
        "id": "Kqw3yUWYy00U"
      },
      "execution_count": 16,
      "outputs": []
    },
    {
      "cell_type": "code",
      "source": [
        "x = np.array((4,2,5,-2,-100)).reshape(5,1)\n",
        "print(x)\n"
      ],
      "metadata": {
        "colab": {
          "base_uri": "https://localhost:8080/"
        },
        "id": "ZlAgk0qex21D",
        "outputId": "acdfc80a-ff39-4440-a92a-aa49735780b5"
      },
      "execution_count": 31,
      "outputs": [
        {
          "output_type": "stream",
          "name": "stdout",
          "text": [
            "[[   4]\n",
            " [   2]\n",
            " [   5]\n",
            " [  -2]\n",
            " [-100]]\n"
          ]
        }
      ]
    },
    {
      "cell_type": "code",
      "source": [
        "mas = MaxAbsScaler()\n",
        "mas.fit_transform(x)"
      ],
      "metadata": {
        "colab": {
          "base_uri": "https://localhost:8080/"
        },
        "id": "HQG0bY1wzJw8",
        "outputId": "ed200663-1d2b-4df0-9282-7bf9b54d9e03"
      },
      "execution_count": 32,
      "outputs": [
        {
          "output_type": "execute_result",
          "data": {
            "text/plain": [
              "array([[ 0.04],\n",
              "       [ 0.02],\n",
              "       [ 0.05],\n",
              "       [-0.02],\n",
              "       [-1.  ]])"
            ]
          },
          "metadata": {},
          "execution_count": 32
        }
      ]
    },
    {
      "cell_type": "markdown",
      "source": [
        "# **MinMaxScaler**\n",
        "\n",
        "* it transforms the original feature vector x into new feature vector x' so that all values within range[0,1]\n",
        "\n",
        "* $x' = \\frac{x - x.min}{x.max - x.min}$\n",
        "\n",
        "\n",
        "* x = original value\n",
        "* x.mean = column ka minimum\n",
        "* x.max = column ka maximum\n",
        "* x' = scaled value (0 se 1 ke beech)"
      ],
      "metadata": {
        "id": "ihy34SJA0Z41"
      }
    },
    {
      "cell_type": "code",
      "source": [
        "from sklearn.preprocessing import MinMaxScaler"
      ],
      "metadata": {
        "id": "4KkY8_9GDg1V"
      },
      "execution_count": 28,
      "outputs": []
    },
    {
      "cell_type": "code",
      "source": [
        "x= np.array((15,2,5,-2,-5)).reshape(5,1)\n",
        "print(x)"
      ],
      "metadata": {
        "colab": {
          "base_uri": "https://localhost:8080/"
        },
        "id": "9q3GUfUP0bv0",
        "outputId": "e1ea0689-f240-453d-aa8b-fb0583e1173b"
      },
      "execution_count": 29,
      "outputs": [
        {
          "output_type": "stream",
          "name": "stdout",
          "text": [
            "[[15]\n",
            " [ 2]\n",
            " [ 5]\n",
            " [-2]\n",
            " [-5]]\n"
          ]
        }
      ]
    },
    {
      "cell_type": "code",
      "source": [
        "mms = MinMaxScaler()\n",
        "mms.fit_transform(x)"
      ],
      "metadata": {
        "colab": {
          "base_uri": "https://localhost:8080/"
        },
        "id": "TZKDjG9BDTns",
        "outputId": "504a64a7-d357-49ba-8631-7b521b854325"
      },
      "execution_count": 30,
      "outputs": [
        {
          "output_type": "execute_result",
          "data": {
            "text/plain": [
              "array([[1.  ],\n",
              "       [0.35],\n",
              "       [0.5 ],\n",
              "       [0.15],\n",
              "       [0.  ]])"
            ]
          },
          "metadata": {},
          "execution_count": 30
        }
      ]
    },
    {
      "cell_type": "markdown",
      "source": [
        "# **Function Transformer**\n",
        "* constructs transformed features by applying a user defined function"
      ],
      "metadata": {
        "id": "QSRT50n_FEB-"
      }
    },
    {
      "cell_type": "code",
      "source": [
        "from sklearn.preprocessing import FunctionTransformer\n",
        "import numpy as np"
      ],
      "metadata": {
        "id": "Fc4U5MslFv9c"
      },
      "execution_count": 40,
      "outputs": []
    },
    {
      "cell_type": "code",
      "source": [
        "x = np.array((128,2,2,256,4,1,512,64)).reshape(4,2)\n",
        "print(x)"
      ],
      "metadata": {
        "colab": {
          "base_uri": "https://localhost:8080/"
        },
        "id": "3NgZEHWOFISu",
        "outputId": "82d295c0-b8c6-4546-f27e-8c1cc94fd590"
      },
      "execution_count": 41,
      "outputs": [
        {
          "output_type": "stream",
          "name": "stdout",
          "text": [
            "[[128   2]\n",
            " [  2 256]\n",
            " [  4   1]\n",
            " [512  64]]\n"
          ]
        }
      ]
    },
    {
      "cell_type": "code",
      "source": [
        "ft = FunctionTransformer(np.log2)\n",
        "ft.fit_transform(x)"
      ],
      "metadata": {
        "colab": {
          "base_uri": "https://localhost:8080/"
        },
        "id": "lNUuDoi5FpLN",
        "outputId": "fb84e8f4-f74f-48e9-9533-e608b8bd540e"
      },
      "execution_count": 43,
      "outputs": [
        {
          "output_type": "execute_result",
          "data": {
            "text/plain": [
              "array([[7., 1.],\n",
              "       [1., 8.],\n",
              "       [2., 0.],\n",
              "       [9., 6.]])"
            ]
          },
          "metadata": {},
          "execution_count": 43
        }
      ]
    },
    {
      "cell_type": "markdown",
      "source": [
        "# **Polynomial Transformation**\n",
        "* generates a new feature matrix consisting of all polynomial combinations of the features with degree less then or equal to the specified degree"
      ],
      "metadata": {
        "id": "pbynB1fvH8fi"
      }
    },
    {
      "cell_type": "code",
      "source": [
        "from sklearn.preprocessing import PolynomialFeatures"
      ],
      "metadata": {
        "id": "Z7JXUrIfIjmk"
      },
      "execution_count": 48,
      "outputs": []
    },
    {
      "cell_type": "code",
      "source": [
        "import numpy as np\n",
        "x = np.array([[2, 3], [4, 5]])"
      ],
      "metadata": {
        "id": "h08zQPI0IawA"
      },
      "execution_count": 49,
      "outputs": []
    },
    {
      "cell_type": "code",
      "source": [
        "pf = PolynomialFeatures(degree= 2)\n",
        "pf.fit_transform(x)"
      ],
      "metadata": {
        "colab": {
          "base_uri": "https://localhost:8080/"
        },
        "id": "cw8EfBBBIiyB",
        "outputId": "5faba7c3-02d4-4491-c1fa-b78005332722"
      },
      "execution_count": 50,
      "outputs": [
        {
          "output_type": "execute_result",
          "data": {
            "text/plain": [
              "array([[ 1.,  2.,  3.,  4.,  6.,  9.],\n",
              "       [ 1.,  4.,  5., 16., 20., 25.]])"
            ]
          },
          "metadata": {},
          "execution_count": 50
        }
      ]
    },
    {
      "cell_type": "code",
      "source": [
        "pf = PolynomialFeatures(degree= 3)\n",
        "pf.fit_transform(x)"
      ],
      "metadata": {
        "colab": {
          "base_uri": "https://localhost:8080/"
        },
        "id": "a0fcRfF9Jbu0",
        "outputId": "012f9dbb-3d81-433f-e0fb-26b31bd69d97"
      },
      "execution_count": 51,
      "outputs": [
        {
          "output_type": "execute_result",
          "data": {
            "text/plain": [
              "array([[  1.,   2.,   3.,   4.,   6.,   9.,   8.,  12.,  18.,  27.],\n",
              "       [  1.,   4.,   5.,  16.,  20.,  25.,  64.,  80., 100., 125.]])"
            ]
          },
          "metadata": {},
          "execution_count": 51
        }
      ]
    },
    {
      "cell_type": "markdown",
      "source": [
        "# **KBinsDisccretizer**\n",
        "* Divides a continuous variable into bins.\n",
        "* one hot encoding or ordinal encoding is further applied to the bin labels"
      ],
      "metadata": {
        "id": "uNFcl6ucJiho"
      }
    },
    {
      "cell_type": "code",
      "source": [
        "from sklearn.preprocessing import KBinsDiscretizer"
      ],
      "metadata": {
        "id": "RK6Y-sa0J14C"
      },
      "execution_count": 52,
      "outputs": []
    },
    {
      "cell_type": "code",
      "source": [
        "x = np.array((0,0.125,0.25,0.375,0.5,0.675,0.75,0.875,1.0)).reshape(9,1)\n",
        "print(x)"
      ],
      "metadata": {
        "colab": {
          "base_uri": "https://localhost:8080/"
        },
        "id": "keY1CPHPJ8VU",
        "outputId": "5041a7c3-6bb0-42ca-b9de-ed342daf53a3"
      },
      "execution_count": 54,
      "outputs": [
        {
          "output_type": "stream",
          "name": "stdout",
          "text": [
            "[[0.   ]\n",
            " [0.125]\n",
            " [0.25 ]\n",
            " [0.375]\n",
            " [0.5  ]\n",
            " [0.675]\n",
            " [0.75 ]\n",
            " [0.875]\n",
            " [1.   ]]\n"
          ]
        }
      ]
    },
    {
      "cell_type": "code",
      "source": [
        "kd = KBinsDiscretizer()\n",
        "kd.fit_transform(x)"
      ],
      "metadata": {
        "colab": {
          "base_uri": "https://localhost:8080/"
        },
        "id": "iRGIknXmKJaL",
        "outputId": "bc3675fb-5771-4745-bdea-dc34efde7b0c"
      },
      "execution_count": 56,
      "outputs": [
        {
          "output_type": "execute_result",
          "data": {
            "text/plain": [
              "<Compressed Sparse Row sparse matrix of dtype 'float64'\n",
              "\twith 9 stored elements and shape (9, 5)>"
            ]
          },
          "metadata": {},
          "execution_count": 56
        }
      ]
    }
  ]
}