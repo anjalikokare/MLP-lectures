{
  "nbformat": 4,
  "nbformat_minor": 0,
  "metadata": {
    "colab": {
      "provenance": [],
      "authorship_tag": "ABX9TyO5Hn05v18c9c0SMK8uTw4t",
      "include_colab_link": true
    },
    "kernelspec": {
      "name": "python3",
      "display_name": "Python 3"
    },
    "language_info": {
      "name": "python"
    }
  },
  "cells": [
    {
      "cell_type": "markdown",
      "metadata": {
        "id": "view-in-github",
        "colab_type": "text"
      },
      "source": [
        "<a href=\"https://colab.research.google.com/github/anjalikokare/MLP-lectures/blob/main/week2_mlp_2_4.ipynb\" target=\"_parent\"><img src=\"https://colab.research.google.com/assets/colab-badge.svg\" alt=\"Open In Colab\"/></a>"
      ]
    },
    {
      "cell_type": "markdown",
      "source": [
        "## **Data preprocessing**"
      ],
      "metadata": {
        "id": "W2t5ENXvha2g"
      }
    },
    {
      "cell_type": "markdown",
      "source": [
        "# * **Transformer mathods**\n",
        "* fit() --> method learns model parameters from the training set\n",
        "* transform() --> method applies the leart transformation to the new data.\n",
        "* fit_transform() --> performs function of both fit() and transform() methods and is more convenient and efficient to use"
      ],
      "metadata": {
        "id": "loicyz_gk0qv"
      }
    },
    {
      "cell_type": "markdown",
      "source": [
        "# **Feature Extraction**"
      ],
      "metadata": {
        "id": "UmfLOTFAlvJv"
      }
    },
    {
      "cell_type": "markdown",
      "source": [
        " * **sklearn.feature_extraction --> has useful APIs to extracct features from data**\n",
        "* 1.**DictVectorizer**\n",
        "* 2.**FeatureHasher**"
      ],
      "metadata": {
        "id": "-ElbdgRXlzGP"
      }
    },
    {
      "cell_type": "markdown",
      "source": [
        "* **DictVectorizer**  -->  convert list of mappings of feature name and feature value, into a matrix"
      ],
      "metadata": {
        "id": "Wd6MirYCnwRw"
      }
    },
    {
      "cell_type": "code",
      "source": [
        "data = [\n",
        "    {'age':4 , 'height':96.0},\n",
        "    {'age':1 , 'height':73.9},\n",
        "    {'age':3 , 'height': 88.9},\n",
        "    {'age':2 , 'height': 81.6}\n",
        "    ]"
      ],
      "metadata": {
        "id": "3fPKkiu5n8Ev"
      },
      "execution_count": null,
      "outputs": []
    },
    {
      "cell_type": "code",
      "source": [
        "from sklearn.feature_extraction import DictVectorizer"
      ],
      "metadata": {
        "id": "5JS7eG3SpL7a"
      },
      "execution_count": null,
      "outputs": []
    },
    {
      "cell_type": "code",
      "source": [
        "df = DictVectorizer(sparse = False)\n",
        "print(df.fit_transform(data))"
      ],
      "metadata": {
        "colab": {
          "base_uri": "https://localhost:8080/"
        },
        "id": "Gxu5VbAlo6iH",
        "outputId": "a7326c1f-c287-4a66-fff8-4ccd5bf0317d"
      },
      "execution_count": null,
      "outputs": [
        {
          "output_type": "stream",
          "name": "stdout",
          "text": [
            "[[ 4.  96. ]\n",
            " [ 1.  73.9]\n",
            " [ 3.  88.9]\n",
            " [ 2.  81.6]]\n"
          ]
        }
      ]
    },
    {
      "cell_type": "markdown",
      "source": [
        "# **FeatureHasher**\n",
        "* high speed, low-memory vectorizer that uses feature hashing technique\n",
        "* applies a hash function to determine their column index\n",
        "* incresed speed and reduced memory usage\n",
        "* no inverse_transform method\n",
        "* output - scipy.sparse"
      ],
      "metadata": {
        "id": "vMPOcH8iqWDX"
      }
    },
    {
      "cell_type": "markdown",
      "source": [
        "# **Feature Extraction from images and text**"
      ],
      "metadata": {
        "id": "iUIRmivxrgIB"
      }
    },
    {
      "cell_type": "markdown",
      "source": [
        "* sklearn.feature_extraction.image --> extract features from image data\n",
        "* sklearn.feature_extraction.text --> extract features from text"
      ],
      "metadata": {
        "id": "B0XRvoZrriwQ"
      }
    },
    {
      "cell_type": "markdown",
      "source": [
        "# **Data Cleaning**"
      ],
      "metadata": {
        "id": "xzIvFYEEsQVY"
      }
    },
    {
      "cell_type": "markdown",
      "source": [
        "# **Handling missing values**\n",
        "* due to erros in data capture\n",
        "* sensor manufacturing\n",
        "* measurement errors etc.\n",
        "* Ml algorithm not work with missing data\n",
        "* Discarded records cotaining missing values result in loss of valueable training samples\n",
        "\n"
      ],
      "metadata": {
        "id": "9zHeZtJksxUw"
      }
    },
    {
      "cell_type": "markdown",
      "source": [
        "# * **sklearn.impute**\n",
        "* API provides functinality to fill missing values in a dataset\n",
        "\n",
        "* 1. SimpleImputer\n",
        "* 2. KNNImputer\n",
        "* MissingIndicator -> provides indicators for missing values"
      ],
      "metadata": {
        "id": "-3WSkaCNs02h"
      }
    },
    {
      "cell_type": "markdown",
      "source": [
        "## **SimpleImputer**"
      ],
      "metadata": {
        "id": "t3Q659uYvVfZ"
      }
    },
    {
      "cell_type": "markdown",
      "source": [
        "* fills missing values\n",
        "* 1. mean\n",
        "* 2. median\n",
        "* 3. most_frequent\n",
        "* 4. constant"
      ],
      "metadata": {
        "id": "CPRn373DvZ0g"
      }
    },
    {
      "cell_type": "code",
      "source": [
        "import numpy as np\n",
        "\n",
        "x = np.array((7,1,np.nan,8,2,np.nan,9,6)).reshape(4,2)\n",
        "print(x)"
      ],
      "metadata": {
        "colab": {
          "base_uri": "https://localhost:8080/"
        },
        "id": "nCJCmoYw20kP",
        "outputId": "5773eaab-869c-4724-a336-95048d76c8a3"
      },
      "execution_count": null,
      "outputs": [
        {
          "output_type": "stream",
          "name": "stdout",
          "text": [
            "[[ 7.  1.]\n",
            " [nan  8.]\n",
            " [ 2. nan]\n",
            " [ 9.  6.]]\n"
          ]
        }
      ]
    },
    {
      "cell_type": "code",
      "source": [
        "from sklearn.impute import SimpleImputer\n",
        "si = SimpleImputer(strategy = 'mean')\n",
        "si.fit_transform(x)"
      ],
      "metadata": {
        "colab": {
          "base_uri": "https://localhost:8080/"
        },
        "id": "OIYccozm3pZn",
        "outputId": "4510b287-d47e-4b41-e535-92656980779d"
      },
      "execution_count": null,
      "outputs": [
        {
          "output_type": "execute_result",
          "data": {
            "text/plain": [
              "array([[7., 1.],\n",
              "       [6., 8.],\n",
              "       [2., 5.],\n",
              "       [9., 6.]])"
            ]
          },
          "metadata": {},
          "execution_count": 26
        }
      ]
    },
    {
      "cell_type": "markdown",
      "source": [
        "## **KNNImputer**"
      ],
      "metadata": {
        "id": "BAqU0ajM5Uan"
      }
    },
    {
      "cell_type": "markdown",
      "source": [
        "* fill missing values\n",
        "* n_neighbors\n",
        "* n_neighbors decided based on Euclidean distance"
      ],
      "metadata": {
        "id": "EM9VAPMo5Zl-"
      }
    },
    {
      "cell_type": "code",
      "source": [
        "x = np.array((1,2,np.nan,3,4,3,np.nan,6,5,8,8,7)).reshape(4,3)\n",
        "# 4 samples 2 missing values\n",
        "x"
      ],
      "metadata": {
        "colab": {
          "base_uri": "https://localhost:8080/"
        },
        "id": "xqAgctXo5qIX",
        "outputId": "5aca118f-bc7b-4ae6-f625-2fd68c30d6b8"
      },
      "execution_count": null,
      "outputs": [
        {
          "output_type": "execute_result",
          "data": {
            "text/plain": [
              "array([[ 1.,  2., nan],\n",
              "       [ 3.,  4.,  3.],\n",
              "       [nan,  6.,  5.],\n",
              "       [ 8.,  8.,  7.]])"
            ]
          },
          "metadata": {},
          "execution_count": 30
        }
      ]
    },
    {
      "cell_type": "code",
      "source": [
        "from sklearn.impute import KNNImputer"
      ],
      "metadata": {
        "id": "Z1AHnF4f7DJB"
      },
      "execution_count": null,
      "outputs": []
    },
    {
      "cell_type": "code",
      "source": [
        "knni = KNNImputer(n_neighbors=2, weights = 'uniform')\n",
        "knni.fit_transform(x)"
      ],
      "metadata": {
        "colab": {
          "base_uri": "https://localhost:8080/"
        },
        "id": "4hZY7jmq7LcP",
        "outputId": "d270cf8d-f25a-40f4-f95d-db6d16ee54b1"
      },
      "execution_count": null,
      "outputs": [
        {
          "output_type": "execute_result",
          "data": {
            "text/plain": [
              "array([[1. , 2. , 4. ],\n",
              "       [3. , 4. , 3. ],\n",
              "       [5.5, 6. , 5. ],\n",
              "       [8. , 8. , 7. ]])"
            ]
          },
          "metadata": {},
          "execution_count": 33
        }
      ]
    },
    {
      "cell_type": "markdown",
      "source": [
        " **handling missing values PART 2**"
      ],
      "metadata": {
        "id": "nW3NBdG1A1Dg"
      }
    },
    {
      "cell_type": "code",
      "source": [
        "data = [\n",
        "    {'Roll': 1001, 'Age':25, 'State':'AP', 'Score': 85.0},\n",
        "    {'Roll': 1002, 'Age':'?', 'State':'AR', 'Score': 90.0},\n",
        "    {'Roll': 1003, 'Age':np.nan, 'State':'AS', 'Score': 78.0},\n",
        "    {'Roll': 1004, 'Age':55, 'State':np.nan, 'Score': 88.0},\n",
        "    {'Roll': 1005, 'Age':22, 'State':'CG', 'Score': np.nan},\n",
        "    {'Roll': 1006, 'Age':np.nan, 'State':'GA', 'Score': 92},\n",
        "    {'Roll': 1007, 'Age':29, 'State':np.nan, 'Score': 74},\n",
        "    {'Roll': 1008, 'Age':'?', 'State':'HR', 'Score': 81.5},\n",
        "    {'Roll': 1009, 'Age':28, 'State':'JK', 'Score': 79.0},\n",
        "    {'Roll': 1010, 'Age':35, 'State':'JH', 'Score': np.nan}\n",
        "]"
      ],
      "metadata": {
        "id": "RK8Bjw_3BpTn"
      },
      "execution_count": null,
      "outputs": []
    },
    {
      "cell_type": "code",
      "source": [
        "import pandas as pd\n",
        "df = pd.DataFrame(data)\n",
        "print(df.head())\n"
      ],
      "metadata": {
        "colab": {
          "base_uri": "https://localhost:8080/"
        },
        "id": "lmBZq3PzFn6n",
        "outputId": "83575713-1285-4b7f-ce32-3cc6b57ae9f7"
      },
      "execution_count": null,
      "outputs": [
        {
          "output_type": "stream",
          "name": "stdout",
          "text": [
            "   Roll  Age State  Score\n",
            "0  1001   25    AP   85.0\n",
            "1  1002    ?    AR   90.0\n",
            "2  1003  NaN    AS   78.0\n",
            "3  1004   55   NaN   88.0\n",
            "4  1005   22    CG    NaN\n"
          ]
        }
      ]
    },
    {
      "cell_type": "code",
      "source": [
        "print(df.isna())\n",
        "print(df.isna().sum())"
      ],
      "metadata": {
        "colab": {
          "base_uri": "https://localhost:8080/"
        },
        "id": "zRq-4hThGHhn",
        "outputId": "2dc4affc-1871-4e9e-9672-4b2966e1ca88"
      },
      "execution_count": null,
      "outputs": [
        {
          "output_type": "stream",
          "name": "stdout",
          "text": [
            "    Roll    Age  State  Score\n",
            "0  False  False  False  False\n",
            "1  False  False  False  False\n",
            "2  False   True  False  False\n",
            "3  False  False   True  False\n",
            "4  False  False  False   True\n",
            "5  False   True  False  False\n",
            "6  False  False   True  False\n",
            "7  False  False  False  False\n",
            "8  False  False  False  False\n",
            "9  False  False  False   True\n",
            "Roll     0\n",
            "Age      2\n",
            "State    2\n",
            "Score    2\n",
            "dtype: int64\n"
          ]
        }
      ]
    },
    {
      "cell_type": "code",
      "source": [
        "df.info()"
      ],
      "metadata": {
        "colab": {
          "base_uri": "https://localhost:8080/"
        },
        "id": "sL_iU8pcGYFh",
        "outputId": "e669f7f7-4062-41b7-8d58-a804d4488721"
      },
      "execution_count": null,
      "outputs": [
        {
          "output_type": "stream",
          "name": "stdout",
          "text": [
            "<class 'pandas.core.frame.DataFrame'>\n",
            "RangeIndex: 10 entries, 0 to 9\n",
            "Data columns (total 4 columns):\n",
            " #   Column  Non-Null Count  Dtype  \n",
            "---  ------  --------------  -----  \n",
            " 0   Roll    10 non-null     int64  \n",
            " 1   Age     8 non-null      object \n",
            " 2   State   8 non-null      object \n",
            " 3   Score   8 non-null      float64\n",
            "dtypes: float64(1), int64(1), object(2)\n",
            "memory usage: 452.0+ bytes\n"
          ]
        }
      ]
    },
    {
      "cell_type": "code",
      "source": [
        "df['Age'].value_counts()"
      ],
      "metadata": {
        "colab": {
          "base_uri": "https://localhost:8080/",
          "height": 335
        },
        "id": "d16sh_5jG1Ob",
        "outputId": "640fa810-e99e-4dae-8cd0-77f57dd49abd"
      },
      "execution_count": null,
      "outputs": [
        {
          "output_type": "execute_result",
          "data": {
            "text/plain": [
              "Age\n",
              "?     2\n",
              "25    1\n",
              "55    1\n",
              "22    1\n",
              "29    1\n",
              "28    1\n",
              "35    1\n",
              "Name: count, dtype: int64"
            ],
            "text/html": [
              "<div>\n",
              "<style scoped>\n",
              "    .dataframe tbody tr th:only-of-type {\n",
              "        vertical-align: middle;\n",
              "    }\n",
              "\n",
              "    .dataframe tbody tr th {\n",
              "        vertical-align: top;\n",
              "    }\n",
              "\n",
              "    .dataframe thead th {\n",
              "        text-align: right;\n",
              "    }\n",
              "</style>\n",
              "<table border=\"1\" class=\"dataframe\">\n",
              "  <thead>\n",
              "    <tr style=\"text-align: right;\">\n",
              "      <th></th>\n",
              "      <th>count</th>\n",
              "    </tr>\n",
              "    <tr>\n",
              "      <th>Age</th>\n",
              "      <th></th>\n",
              "    </tr>\n",
              "  </thead>\n",
              "  <tbody>\n",
              "    <tr>\n",
              "      <th>?</th>\n",
              "      <td>2</td>\n",
              "    </tr>\n",
              "    <tr>\n",
              "      <th>25</th>\n",
              "      <td>1</td>\n",
              "    </tr>\n",
              "    <tr>\n",
              "      <th>55</th>\n",
              "      <td>1</td>\n",
              "    </tr>\n",
              "    <tr>\n",
              "      <th>22</th>\n",
              "      <td>1</td>\n",
              "    </tr>\n",
              "    <tr>\n",
              "      <th>29</th>\n",
              "      <td>1</td>\n",
              "    </tr>\n",
              "    <tr>\n",
              "      <th>28</th>\n",
              "      <td>1</td>\n",
              "    </tr>\n",
              "    <tr>\n",
              "      <th>35</th>\n",
              "      <td>1</td>\n",
              "    </tr>\n",
              "  </tbody>\n",
              "</table>\n",
              "</div><br><label><b>dtype:</b> int64</label>"
            ]
          },
          "metadata": {},
          "execution_count": 59
        }
      ]
    },
    {
      "cell_type": "code",
      "source": [
        "df['State'].unique()"
      ],
      "metadata": {
        "colab": {
          "base_uri": "https://localhost:8080/"
        },
        "id": "jmnSt6I3G-mT",
        "outputId": "d42c3aed-38b4-4e05-b2c3-7532d70cba13"
      },
      "execution_count": null,
      "outputs": [
        {
          "output_type": "execute_result",
          "data": {
            "text/plain": [
              "array(['AP', 'AR', 'AS', nan, 'CG', 'GA', 'HR', 'JK', 'JH'], dtype=object)"
            ]
          },
          "metadata": {},
          "execution_count": 60
        }
      ]
    },
    {
      "cell_type": "code",
      "source": [
        "import seaborn as sns\n",
        "import matplotlib.pyplot as plt"
      ],
      "metadata": {
        "id": "JuclEFmTJTEu"
      },
      "execution_count": null,
      "outputs": []
    },
    {
      "cell_type": "code",
      "source": [
        "sns.heatmap(df.isnull(), cbar = False, cmap = 'viridis', yticklabels = False)\n",
        "plt.title('Missing Data heatmap')\n",
        "plt.show()"
      ],
      "metadata": {
        "colab": {
          "base_uri": "https://localhost:8080/",
          "height": 452
        },
        "id": "BSDxlFgPJfiX",
        "outputId": "c6c51c67-c76d-4b3d-970a-b027d8e5865c"
      },
      "execution_count": null,
      "outputs": [
        {
          "output_type": "display_data",
          "data": {
            "text/plain": [
              "<Figure size 640x480 with 1 Axes>"
            ],
            "image/png": "[encoded data removed]"
          },
          "metadata": {}
        }
      ]
    },
    {
      "cell_type": "markdown",
      "source": [
        "# **Strategies to handle missing values**"
      ],
      "metadata": {
        "id": "w-Jx4P-9KzPu"
      }
    },
    {
      "cell_type": "markdown",
      "source": [
        "* find using other sources\n",
        "* drop missing data\n",
        "* fill in with a constant value\n",
        "* fill in with a measure of central tendancy\n",
        "* fill in by considering similar datapoints"
      ],
      "metadata": {
        "id": "V2zIvG9tLYBH"
      }
    },
    {
      "cell_type": "markdown",
      "source": [
        "* **Finding missing values from other sources**\n",
        "* extract from other - Age & Dob , week & Timestamp, Gender & Honorifics\n",
        "* mising infomration that exist on the public domain - Cars, Electronics, Movies , Sports"
      ],
      "metadata": {
        "id": "tOKVfUMdLoYX"
      }
    },
    {
      "cell_type": "markdown",
      "source": [
        "* **Drop Missing data**\n",
        "* large data with a small percentage of rows caontaing mising data"
      ],
      "metadata": {
        "id": "T-l3tOEoNH7W"
      }
    },
    {
      "cell_type": "markdown",
      "source": [
        "* **Techniques to impute missing values**\n",
        "* **Simple Imputer**\n",
        "* replaces the missing value using a descriptive statistic among mean, median or mmost_frequent(mode) along each column or using a constant value\n",
        "\n",
        "* **KNN Imputer**\n",
        "* Each sample's missing values are imputed using the mean value from n_neighbors found in the training set"
      ],
      "metadata": {
        "id": "wEFUKELXNxlV"
      }
    },
    {
      "cell_type": "markdown",
      "source": [
        "# **Simple Imputer**"
      ],
      "metadata": {
        "id": "_9zAL07gOKIu"
      }
    },
    {
      "cell_type": "code",
      "source": [
        "import numpy as np\n",
        "from sklearn.impute import SimpleImputer, KNNImputer\n",
        "\n",
        "x = [[np.nan,2,3],[4,np.nan,6],[10,np.nan,9]]\n",
        "\n",
        "# mean_imputer = SimpleImputer(strategy = 'mean')\n",
        "\n",
        "knn_imputer = KNNImputer(n_neighbors = 2)\n",
        "# mean_imputer.fit(x)\n",
        "knn_imputer.fit(x)\n",
        "\n",
        "# mean_imputer.transform(x)\n",
        "knn_imputer.transform(x)"
      ],
      "metadata": {
        "colab": {
          "base_uri": "https://localhost:8080/"
        },
        "id": "5P3VWeKCOuMX",
        "outputId": "5dced00f-5059-441e-89c5-9b3bb2578c1b"
      },
      "execution_count": null,
      "outputs": [
        {
          "output_type": "execute_result",
          "data": {
            "text/plain": [
              "array([[ 7.,  2.,  3.],\n",
              "       [ 4.,  2.,  6.],\n",
              "       [10.,  2.,  9.]])"
            ]
          },
          "metadata": {},
          "execution_count": 70
        }
      ]
    }
  ]
}