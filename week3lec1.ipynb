{
  "cells": [
    {
      "cell_type": "markdown",
      "metadata": {
        "id": "view-in-github",
        "colab_type": "text"
      },
      "source": [
        "<a href=\"https://colab.research.google.com/github/anjalikokare/MLP-lectures/blob/main/week3lec1.ipynb\" target=\"_parent\"><img src=\"https://colab.research.google.com/assets/colab-badge.svg\" alt=\"Open In Colab\"/></a>"
      ]
    },
    {
      "cell_type": "markdown",
      "id": "0bf599f7",
      "metadata": {
        "id": "0bf599f7"
      },
      "source": [
        "sklearn.pipeline :\n",
        "provide utilities to buid composite estimator as a chain transformers and estimators"
      ]
    },
    {
      "cell_type": "markdown",
      "id": "ea19667e",
      "metadata": {
        "id": "ea19667e"
      },
      "source": [
        "1) pipeline\n",
        "2) FeatureUnion"
      ]
    },
    {
      "cell_type": "markdown",
      "id": "ef6089d6",
      "metadata": {
        "id": "ef6089d6"
      },
      "source": [
        "**pipeline : construst a chain of multiple transformer to execute a fixed sequence of steps in data preprocessing and modelling"
      ]
    },
    {
      "cell_type": "markdown",
      "id": "e24b2ee1",
      "metadata": {
        "id": "e24b2ee1"
      },
      "source": [
        "**FeatureUnion : combines output from several transformer objects by creating a new transformer from them"
      ]
    },
    {
      "cell_type": "markdown",
      "id": "296e5109",
      "metadata": {
        "id": "296e5109"
      },
      "source": [
        "sklearn.pipeline.pipeline :\n",
        "**sequentionally apply list of transformer and estimators\n",
        "**intermediate steps of the pipeline muzt be 'transformers' that is , they must implement fit and transform methods."
      ]
    },
    {
      "cell_type": "markdown",
      "id": "29e11b1e",
      "metadata": {
        "id": "29e11b1e"
      },
      "source": [
        "**pipeline() : it takes a list of ('estimatorName', estimator(...)) tuples\n",
        "\n",
        "** the pipeline object exposes interface of the last step\n"
      ]
    },
    {
      "cell_type": "code",
      "execution_count": null,
      "id": "dc5e421a",
      "metadata": {
        "id": "dc5e421a"
      },
      "outputs": [],
      "source": [
        "estimators = [\n",
        "    ('simpleImputer',simpleImputer()),\n",
        "    ('standardImputer',standardImputer()),\n",
        "]\n",
        "pipe = pipeline(steps=estimators)"
      ]
    },
    {
      "cell_type": "markdown",
      "id": "86e1e63e",
      "metadata": {
        "id": "86e1e63e"
      },
      "source": [
        "**make_pipeline : it takes a number of estimator onjects only"
      ]
    },
    {
      "cell_type": "code",
      "execution_count": null,
      "id": "8c4d37e7",
      "metadata": {
        "id": "8c4d37e7"
      },
      "outputs": [],
      "source": [
        "pipe = make_pipeline(simpleImputer(),\n",
        "standardImputer())"
      ]
    },
    {
      "cell_type": "markdown",
      "id": "34013848",
      "metadata": {
        "id": "34013848"
      },
      "source": [
        "without pipeline"
      ]
    },
    {
      "cell_type": "code",
      "execution_count": null,
      "id": "fa1cb690",
      "metadata": {
        "id": "fa1cb690"
      },
      "outputs": [],
      "source": [
        "si = simpleImputer()\n",
        "x_imputed = si.fit_transform(X)\n",
        "ss = StandardScaler()\n",
        "x_scaled = ss.fit_transform(x_imputed)"
      ]
    },
    {
      "cell_type": "markdown",
      "id": "944bee32",
      "metadata": {
        "id": "944bee32"
      },
      "source": [
        "with pipeline"
      ]
    },
    {
      "cell_type": "code",
      "execution_count": null,
      "id": "319cdc1a",
      "metadata": {
        "id": "319cdc1a"
      },
      "outputs": [],
      "source": [
        "estimators = [\n",
        "     ('simpleImputer',simpleImputer()),\n",
        "    ('standardImputer',standardImputer()),\n",
        "]\n",
        "pipe = pipeline(steps=estimators)\n",
        "pipe.fit_transform(X)"
      ]
    },
    {
      "cell_type": "markdown",
      "id": "d3a49e49",
      "metadata": {
        "id": "d3a49e49"
      },
      "source": [
        "total #steps:3\n",
        "1. SimpleImputer\n",
        "2. PCA\n",
        "3.LinearRegression"
      ]
    },
    {
      "cell_type": "code",
      "execution_count": null,
      "id": "013c2d4d",
      "metadata": {
        "id": "013c2d4d"
      },
      "outputs": [],
      "source": [
        "estimators = [\n",
        "    ('simpleImputer',simpleImputer()),\n",
        "    ('pca',PCA()),\n",
        "    ('regressor',LinearRegression()),\n",
        "]\n",
        "pipe = pipeline(steps=estimators)\n",
        "\n",
        "pipe.set_params(pca_a_components = 2)"
      ]
    },
    {
      "cell_type": "markdown",
      "id": "68134d2b",
      "metadata": {
        "id": "68134d2b"
      },
      "source": [
        "The second estimator can be accessed in 4 ways:\n",
        "**pipe.named_steps.pca\n",
        "**pipe.steps[1]\n",
        "**pipe[1]\n",
        "**pipe['pca']"
      ]
    },
    {
      "cell_type": "markdown",
      "id": "91666677",
      "metadata": {
        "id": "91666677"
      },
      "source": [
        "**performing grid search with pipeline\n"
      ]
    },
    {
      "cell_type": "code",
      "execution_count": null,
      "id": "b4bb018a",
      "metadata": {
        "id": "b4bb018a"
      },
      "outputs": [],
      "source": [
        "param_grid = dict(imputer['passthrough',\n",
        "simpleImputer(),\n",
        "KNNImputer()],\n",
        "clf = [SVC(),LogisticRegression()],\n",
        "clf_c=[0.1,10,100])\n",
        "grid_search = GridSearchCV(pipe,param_grid=param_grid)\n",
        "\n",
        "# c is an inverse of regularization\n",
        "# lower c stronger its regularization\n",
        "# clf_c provides a set of values for grid search"
      ]
    },
    {
      "cell_type": "markdown",
      "id": "1bc23a29",
      "metadata": {
        "id": "1bc23a29"
      },
      "source": [
        "catching transformers"
      ]
    },
    {
      "cell_type": "markdown",
      "id": "5ee7f46f",
      "metadata": {
        "id": "5ee7f46f"
      },
      "source": [
        "**transforming data is a computationally expensive step.\n",
        "**For grid search.transformer need not be applied for every parameter configuration.they can not be applied only once,and the transformed data can reused\n",
        "**this can be achieved by setting memory parameter of a pipeline object.\n",
        "**memory can take either location of a directory in string format or joblib.memory object\n"
      ]
    },
    {
      "cell_type": "code",
      "execution_count": null,
      "id": "5f7d0cfb",
      "metadata": {
        "id": "5f7d0cfb"
      },
      "outputs": [],
      "source": [
        "estimators = [\n",
        "    ('simpleImputer',simpleImputer()),\n",
        "    ('pca',PCA(2)),\n",
        "    ('regressor',LinearRegression())\n",
        "]\n",
        "pipe = pipeline(steps=estimators, memory = 'path/to/cache/dir')"
      ]
    },
    {
      "cell_type": "markdown",
      "id": "0b6a45bb",
      "metadata": {
        "id": "0b6a45bb"
      },
      "source": [
        "advantages of pipeline :\n",
        "**combine multiple steps of end to end Ml into single object such as missing value imputation,feature scalling and encoding,model training and cross validation\n",
        "**Enables joint grid search over parameters of all the extimators in the pipeline\n",
        "**make configuration and tuning end to end ML quick and easy\n",
        "**offers convenience, as a developer has to call fit() and predict methods only on a pipeline object(assuming last step in the pipeline is an estimator)\n",
        "**reduces code duplication : with pipeline object one doesnt have to repeat for preprocessing and\n",
        "transforming the test data"
      ]
    },
    {
      "cell_type": "markdown",
      "id": "963fc907",
      "metadata": {
        "id": "963fc907"
      },
      "source": [
        "sklearn.pipeline.FeatureUnion\n",
        "\n",
        "**concatenates results of multiple transformer objects.\n",
        "** applies a list of transfomer objects in parallel, and their outputs are concates and pipeline and be used to createcomplex transformer"
      ]
    },
    {
      "cell_type": "markdown",
      "id": "22fb410f",
      "metadata": {
        "id": "22fb410f"
      },
      "source": [
        "**FeatureUnion accepts a list of tuples\n",
        "** each tuple is of format:\n",
        "*('estimatorName,estimator(...))\n",
        "\n",
        "\n",
        "num_pipeline = pipeline([('selector',ColumnTransformer([('select_first_4','passthrough',silence(0,4))])),\n",
        "('imputer',SimpleImputer(strategy='median')),\n",
        "('std_scaler',StandardScaler()),\n",
        "])\n",
        "cat_pipeline = ColumnTranformer([('label_binarizer',LabelBinarizer(),[4])\n",
        "])\n",
        "\n",
        "fuill_pipeline= FeatureUnion(transformer_list=[('num_pipeline',num_pipeline),\n",
        "('cat_pipeline',cat_pipeline )])"
      ]
    },
    {
      "cell_type": "code",
      "execution_count": null,
      "id": "557e7a79",
      "metadata": {
        "id": "557e7a79"
      },
      "outputs": [],
      "source": [
        "from aklearn import.set_config\n",
        "set_config(display='diagram')\n",
        "full_pipeline"
      ]
    },
    {
      "cell_type": "code",
      "execution_count": null,
      "id": "b519735b",
      "metadata": {
        "id": "b519735b",
        "outputId": "b8a21df4-1b89-42f0-de15-96972dedff11"
      },
      "outputs": [
        {
          "name": "stdout",
          "output_type": "stream",
          "text": [
            "3\n"
          ]
        }
      ],
      "source": [
        "  from sklearn.decomposition import PCA\n",
        "  from sklearn.impute import SimpleImputer\n",
        "  from sklearn.linear_model import LinearRegression\n",
        "  from sklearn.pipeline import Pipeline\n",
        "  estimators = [\n",
        "      ('simpleImputer', SimpleImputer()),\n",
        "      ('pca', PCA()),\n",
        "      ('regressor', LinearRegression())\n",
        "  ]\n",
        "  pipe = Pipeline(steps=estimators)\n",
        "  print(len(pipe.steps))\n"
      ]
    }
  ],
  "metadata": {
    "kernelspec": {
      "display_name": "Python 3",
      "language": "python",
      "name": "python3"
    },
    "language_info": {
      "codemirror_mode": {
        "name": "ipython",
        "version": 3
      },
      "file_extension": ".py",
      "mimetype": "text/x-python",
      "name": "python",
      "nbconvert_exporter": "python",
      "pygments_lexer": "ipython3",
      "version": "3.13.1"
    },
    "colab": {
      "provenance": [],
      "include_colab_link": true
    }
  },
  "nbformat": 4,
  "nbformat_minor": 5
}